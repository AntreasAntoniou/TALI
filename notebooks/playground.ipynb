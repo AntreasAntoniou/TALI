{
 "cells": [
  {
   "cell_type": "code",
   "execution_count": 1,
   "metadata": {},
   "outputs": [
    {
     "name": "stderr",
     "output_type": "stream",
     "text": [
      "/home/evolvingfungus/miniconda/envs/minimal-ml-template/lib/python3.10/site-packages/torchvision/transforms/_functional_video.py:6: UserWarning: The 'torchvision.transforms._functional_video' module is deprecated since 0.12 and will be removed in the future. Please use the 'torchvision.transforms.functional' module instead.\n",
      "  warnings.warn(\n",
      "/home/evolvingfungus/miniconda/envs/minimal-ml-template/lib/python3.10/site-packages/torchvision/transforms/_transforms_video.py:22: UserWarning: The 'torchvision.transforms._transforms_video' module is deprecated since 0.12 and will be removed in the future. Please use the 'torchvision.transforms' module instead.\n",
      "  warnings.warn(\n"
     ]
    }
   ],
   "source": [
    "%load_ext autoreload\n",
    "%autoreload 2\n",
    "from tali_wit.data_plus import *\n",
    "import numpy as np"
   ]
  },
  {
   "cell_type": "code",
   "execution_count": 2,
   "metadata": {},
   "outputs": [
    {
     "data": {
      "text/html": [
       "<pre style=\"white-space:pre;overflow-x:auto;line-height:normal;font-family:Menlo,'DejaVu Sans Mono',consolas,'Courier New',monospace\"><span style=\"font-weight: bold\">{</span>\n",
       "    <span style=\"color: #008000; text-decoration-color: #008000\">'video'</span>: <span style=\"font-weight: bold\">{</span><span style=\"color: #008000; text-decoration-color: #008000\">'duration'</span>: <span style=\"font-weight: bold\">[</span><span style=\"color: #008080; text-decoration-color: #008080; font-weight: bold\">30.153</span><span style=\"font-weight: bold\">]</span>, <span style=\"color: #008000; text-decoration-color: #008000\">'fps'</span>: <span style=\"font-weight: bold\">[</span><span style=\"color: #008080; text-decoration-color: #008080; font-weight: bold\">29.97002997002997</span><span style=\"font-weight: bold\">]}</span>,\n",
       "    <span style=\"color: #008000; text-decoration-color: #008000\">'audio'</span>: <span style=\"font-weight: bold\">{</span><span style=\"color: #008000; text-decoration-color: #008000\">'duration'</span>: <span style=\"font-weight: bold\">[</span><span style=\"color: #008080; text-decoration-color: #008080; font-weight: bold\">30.0</span><span style=\"font-weight: bold\">]</span>, <span style=\"color: #008000; text-decoration-color: #008000\">'framerate'</span>: <span style=\"font-weight: bold\">[</span><span style=\"color: #008080; text-decoration-color: #008080; font-weight: bold\">44100.0</span><span style=\"font-weight: bold\">]}</span>,\n",
       "    <span style=\"color: #008000; text-decoration-color: #008000\">'subtitles'</span>: <span style=\"font-weight: bold\">{</span><span style=\"color: #008000; text-decoration-color: #008000\">'duration'</span>: <span style=\"font-weight: bold\">[]}</span>,\n",
       "    <span style=\"color: #008000; text-decoration-color: #008000\">'cc'</span>: <span style=\"font-weight: bold\">{</span><span style=\"color: #008000; text-decoration-color: #008000\">'duration'</span>: <span style=\"font-weight: bold\">[]}</span>\n",
       "<span style=\"font-weight: bold\">}</span>\n",
       "</pre>\n"
      ],
      "text/plain": [
       "\u001b[1m{\u001b[0m\n",
       "    \u001b[32m'video'\u001b[0m: \u001b[1m{\u001b[0m\u001b[32m'duration'\u001b[0m: \u001b[1m[\u001b[0m\u001b[1;36m30.153\u001b[0m\u001b[1m]\u001b[0m, \u001b[32m'fps'\u001b[0m: \u001b[1m[\u001b[0m\u001b[1;36m29.97002997002997\u001b[0m\u001b[1m]\u001b[0m\u001b[1m}\u001b[0m,\n",
       "    \u001b[32m'audio'\u001b[0m: \u001b[1m{\u001b[0m\u001b[32m'duration'\u001b[0m: \u001b[1m[\u001b[0m\u001b[1;36m30.0\u001b[0m\u001b[1m]\u001b[0m, \u001b[32m'framerate'\u001b[0m: \u001b[1m[\u001b[0m\u001b[1;36m44100.0\u001b[0m\u001b[1m]\u001b[0m\u001b[1m}\u001b[0m,\n",
       "    \u001b[32m'subtitles'\u001b[0m: \u001b[1m{\u001b[0m\u001b[32m'duration'\u001b[0m: \u001b[1m[\u001b[0m\u001b[1m]\u001b[0m\u001b[1m}\u001b[0m,\n",
       "    \u001b[32m'cc'\u001b[0m: \u001b[1m{\u001b[0m\u001b[32m'duration'\u001b[0m: \u001b[1m[\u001b[0m\u001b[1m]\u001b[0m\u001b[1m}\u001b[0m\n",
       "\u001b[1m}\u001b[0m\n"
      ]
     },
     "metadata": {},
     "output_type": "display_data"
    },
    {
     "data": {
      "text/plain": [
       "<torchvision.io.video_reader.VideoReader at 0x7fd169950850>"
      ]
     },
     "execution_count": 2,
     "metadata": {},
     "output_type": "execute_result"
    }
   ],
   "source": [
    "import torchvision\n",
    "\n",
    "reader = torchvision.io.VideoReader(video_path, \"video\", device=\"cpu\")\n",
    "\n",
    "print(reader.get_metadata())\n",
    "reader.seek(10, keyframes_only=True)\n",
    "# frame = next(reader)"
   ]
  },
  {
   "cell_type": "code",
   "execution_count": 48,
   "metadata": {},
   "outputs": [
    {
     "data": {
      "text/html": [
       "<pre style=\"white-space:pre;overflow-x:auto;line-height:normal;font-family:Menlo,'DejaVu Sans Mono',consolas,'Courier New',monospace\"><span style=\"color: #008080; text-decoration-color: #008080; font-weight: bold\">5</span>\n",
       "</pre>\n"
      ],
      "text/plain": [
       "\u001b[1;36m5\u001b[0m\n"
      ]
     },
     "metadata": {},
     "output_type": "display_data"
    },
    {
     "data": {
      "text/html": [
       "<pre style=\"white-space:pre;overflow-x:auto;line-height:normal;font-family:Menlo,'DejaVu Sans Mono',consolas,'Courier New',monospace\">total time: <span style=\"color: #008080; text-decoration-color: #008080; font-weight: bold\">0.6238412857055664</span>\n",
       "</pre>\n"
      ],
      "text/plain": [
       "total time: \u001b[1;36m0.6238412857055664\u001b[0m\n"
      ]
     },
     "metadata": {},
     "output_type": "display_data"
    }
   ],
   "source": [
    "import time\n",
    "\n",
    "reader = torchvision.io.VideoReader(\n",
    "    path=video_path, stream=\"video\", device=\"cpu\"\n",
    ")\n",
    "frame = next(reader)\n",
    "frames = [frame]\n",
    "timestamps = []\n",
    "timestamp = 10\n",
    "reader.seek(timestamp, keyframes_only=True)\n",
    "\n",
    "cur_timestamp = timestamp\n",
    "while cur_timestamp < 20:\n",
    "    cur_timestamp = cur_timestamp + 0.2\n",
    "    timestamps.append(cur_timestamp)\n",
    "\n",
    "frame_dict = {}\n",
    "starting_second = time.time()\n",
    "# print(timestamps)\n",
    "for t in timestamps:\n",
    "    reader.seek(t, keyframes_only=True)\n",
    "    frame = next(reader)\n",
    "    frame_dict[frame[\"pts\"]] = frame[\"data\"]\n",
    "\n",
    "end_time = time.time()\n",
    "print(len(frame_dict))\n",
    "print(f\"total time: {end_time - starting_second}\")"
   ]
  },
  {
   "cell_type": "code",
   "execution_count": 80,
   "metadata": {},
   "outputs": [
    {
     "data": {
      "text/html": [
       "<pre style=\"white-space:pre;overflow-x:auto;line-height:normal;font-family:Menlo,'DejaVu Sans Mono',consolas,'Courier New',monospace\"><span style=\"color: #008080; text-decoration-color: #008080; font-weight: bold\">482</span>\n",
       "</pre>\n"
      ],
      "text/plain": [
       "\u001b[1;36m482\u001b[0m\n"
      ]
     },
     "metadata": {},
     "output_type": "display_data"
    },
    {
     "data": {
      "text/html": [
       "<pre style=\"white-space:pre;overflow-x:auto;line-height:normal;font-family:Menlo,'DejaVu Sans Mono',consolas,'Courier New',monospace\">total time: <span style=\"color: #008080; text-decoration-color: #008080; font-weight: bold\">0.01557779312133789</span>\n",
       "</pre>\n"
      ],
      "text/plain": [
       "total time: \u001b[1;36m0.01557779312133789\u001b[0m\n"
      ]
     },
     "metadata": {},
     "output_type": "display_data"
    }
   ],
   "source": [
    "import time\n",
    "\n",
    "reader = torchvision.io.VideoReader(video_path, \"audio\", device=\"cpu\")\n",
    "reader.seek(10, keyframes_only=True)\n",
    "timestamp = 10\n",
    "\n",
    "frame_dict = {}\n",
    "starting_second = time.time()\n",
    "\n",
    "for frame in reader:\n",
    "    if frame[\"pts\"] > 20:\n",
    "        break\n",
    "    frame_dict[frame[\"pts\"]] = frame[\"data\"]\n",
    "    # print(frame['data'].shape)\n",
    "\n",
    "end_time = time.time()\n",
    "print(len(frame_dict))\n",
    "print(f\"total time: {end_time - starting_second}\")"
   ]
  },
  {
   "cell_type": "code",
   "execution_count": 87,
   "metadata": {},
   "outputs": [],
   "source": [
    "class FrameSelectioMethod:\n",
    "    RANDOM: str = \"random\"\n",
    "    UNIFORM: str = \"uniform\"\n",
    "    SEQUENTIAL: str = \"sequential\"\n",
    "\n",
    "\n",
    "def extract_frames(\n",
    "    video_path,\n",
    "    modality,\n",
    "    start_time,\n",
    "    end_time,\n",
    "    num_frames,\n",
    "    rng,\n",
    "    frame_selection_method=FrameSelectioMethod.RANDOM,\n",
    "):\n",
    "    reader = torchvision.io.VideoReader(video_path, modality, device=\"cpu\")\n",
    "    reader.seek(start_time, keyframes_only=True)\n",
    "    frame_dict = {}\n",
    "    for frame in reader:\n",
    "        if frame[\"pts\"] > end_time:\n",
    "            break\n",
    "        frame_dict[frame[\"pts\"]] = frame[\"data\"]\n",
    "\n",
    "    if frame_selection_method == FrameSelectioMethod.RANDOM:\n",
    "        frame_indices = rng.choice(len(frame_dict), num_frames, replace=False)\n",
    "    elif frame_selection_method == FrameSelectioMethod.UNIFORM:\n",
    "        frame_indices = np.linspace(\n",
    "            0, len(frame_dict), num_frames, endpoint=False, dtype=int\n",
    "        )\n",
    "    elif frame_selection_method == FrameSelectioMethod.SEQUENTIAL:\n",
    "        frame_indices = np.arange(0, num_frames)\n",
    "\n",
    "    frame_indices = sorted(frame_indices)\n",
    "\n",
    "    frame_values = torch.stack(list(frame_dict.values()))\n",
    "\n",
    "    return frame_values[frame_indices]"
   ]
  },
  {
   "cell_type": "code",
   "execution_count": 91,
   "metadata": {},
   "outputs": [],
   "source": [
    "video_random = extract_frames(\n",
    "    video_path,\n",
    "    \"video\",\n",
    "    10,\n",
    "    20,\n",
    "    30,\n",
    "    np.random.RandomState(42),\n",
    "    frame_selection_method=FrameSelectioMethod.RANDOM,\n",
    ")\n",
    "video_uniform = extract_frames(\n",
    "    video_path,\n",
    "    \"video\",\n",
    "    10,\n",
    "    20,\n",
    "    30,\n",
    "    np.random.RandomState(42),\n",
    "    frame_selection_method=FrameSelectioMethod.UNIFORM,\n",
    ")\n",
    "video_sequential = extract_frames(\n",
    "    video_path,\n",
    "    \"video\",\n",
    "    10,\n",
    "    20,\n",
    "    30,\n",
    "    np.random.RandomState(42),\n",
    "    frame_selection_method=FrameSelectioMethod.SEQUENTIAL,\n",
    ")"
   ]
  },
  {
   "cell_type": "code",
   "execution_count": 90,
   "metadata": {},
   "outputs": [
    {
     "data": {
      "text/html": [
       "<pre style=\"white-space:pre;overflow-x:auto;line-height:normal;font-family:Menlo,'DejaVu Sans Mono',consolas,'Courier New',monospace\">random: <span style=\"color: #800080; text-decoration-color: #800080; font-weight: bold\">torch.Size</span><span style=\"font-weight: bold\">([</span><span style=\"color: #008080; text-decoration-color: #008080; font-weight: bold\">30</span>, <span style=\"color: #008080; text-decoration-color: #008080; font-weight: bold\">3</span>, <span style=\"color: #008080; text-decoration-color: #008080; font-weight: bold\">360</span>, <span style=\"color: #008080; text-decoration-color: #008080; font-weight: bold\">640</span><span style=\"font-weight: bold\">])</span>, uniform: <span style=\"color: #800080; text-decoration-color: #800080; font-weight: bold\">torch.Size</span><span style=\"font-weight: bold\">([</span><span style=\"color: #008080; text-decoration-color: #008080; font-weight: bold\">30</span>, <span style=\"color: #008080; text-decoration-color: #008080; font-weight: bold\">3</span>, <span style=\"color: #008080; text-decoration-color: #008080; font-weight: bold\">360</span>, <span style=\"color: #008080; text-decoration-color: #008080; font-weight: bold\">640</span><span style=\"font-weight: bold\">])</span>, sequential: <span style=\"color: #800080; text-decoration-color: #800080; font-weight: bold\">torch.Size</span><span style=\"font-weight: bold\">([</span><span style=\"color: #008080; text-decoration-color: #008080; font-weight: bold\">30</span>, <span style=\"color: #008080; text-decoration-color: #008080; font-weight: bold\">3</span>, <span style=\"color: #008080; text-decoration-color: #008080; font-weight: bold\">360</span>, \n",
       "<span style=\"color: #008080; text-decoration-color: #008080; font-weight: bold\">640</span><span style=\"font-weight: bold\">])</span>\n",
       "</pre>\n"
      ],
      "text/plain": [
       "random: \u001b[1;35mtorch.Size\u001b[0m\u001b[1m(\u001b[0m\u001b[1m[\u001b[0m\u001b[1;36m30\u001b[0m, \u001b[1;36m3\u001b[0m, \u001b[1;36m360\u001b[0m, \u001b[1;36m640\u001b[0m\u001b[1m]\u001b[0m\u001b[1m)\u001b[0m, uniform: \u001b[1;35mtorch.Size\u001b[0m\u001b[1m(\u001b[0m\u001b[1m[\u001b[0m\u001b[1;36m30\u001b[0m, \u001b[1;36m3\u001b[0m, \u001b[1;36m360\u001b[0m, \u001b[1;36m640\u001b[0m\u001b[1m]\u001b[0m\u001b[1m)\u001b[0m, sequential: \u001b[1;35mtorch.Size\u001b[0m\u001b[1m(\u001b[0m\u001b[1m[\u001b[0m\u001b[1;36m30\u001b[0m, \u001b[1;36m3\u001b[0m, \u001b[1;36m360\u001b[0m, \n",
       "\u001b[1;36m640\u001b[0m\u001b[1m]\u001b[0m\u001b[1m)\u001b[0m\n"
      ]
     },
     "metadata": {},
     "output_type": "display_data"
    }
   ],
   "source": [
    "print(\n",
    "    f\"random: {video_random.shape}, uniform: {video_uniform.shape}, sequential: {video_sequential.shape}\"\n",
    ")"
   ]
  },
  {
   "cell_type": "code",
   "execution_count": 22,
   "metadata": {},
   "outputs": [
    {
     "name": "stderr",
     "output_type": "stream",
     "text": [
      "/tmp/ipykernel_1166/1165579699.py:2: TqdmExperimentalWarning: GUI is experimental/alpha\n",
      "  with tqdm(total=100) as pbar:\n"
     ]
    },
    {
     "data": {
      "image/png": "[encoded data removed]",
      "text/plain": [
       "<Figure size 900x220 with 1 Axes>"
      ]
     },
     "metadata": {},
     "output_type": "display_data"
    }
   ],
   "source": [
    "from tqdm import tqdm as tqdm\n",
    "\n",
    "with tqdm(total=100) as pbar:\n",
    "    for i in range(100):\n",
    "        starting_second = np.random.randint(0, 30 - 10)\n",
    "        ending_second = starting_second + 10\n",
    "        output_dict = videoclip_to_video_audio_tensors(\n",
    "            video_path=video_path,\n",
    "            rng=np.random.RandomState(42),\n",
    "            return_audio=True,\n",
    "            return_video=True,\n",
    "            return_image=True,\n",
    "            starting_second=starting_second,\n",
    "            ending_second=ending_second,\n",
    "            num_audio_frames=16000 * 2,\n",
    "            num_video_frames=16,\n",
    "        )\n",
    "        pbar.update(1)"
   ]
  },
  {
   "cell_type": "code",
   "execution_count": 14,
   "metadata": {},
   "outputs": [
    {
     "data": {
      "text/html": [
       "<pre style=\"white-space:pre;overflow-x:auto;line-height:normal;font-family:Menlo,'DejaVu Sans Mono',consolas,'Courier New',monospace\"><span style=\"color: #800080; text-decoration-color: #800080; font-weight: bold\">dict_keys</span><span style=\"font-weight: bold\">([</span><span style=\"color: #008000; text-decoration-color: #008000\">'video'</span>, <span style=\"color: #008000; text-decoration-color: #008000\">'image'</span>, <span style=\"color: #008000; text-decoration-color: #008000\">'audio'</span><span style=\"font-weight: bold\">])</span>\n",
       "</pre>\n"
      ],
      "text/plain": [
       "\u001b[1;35mdict_keys\u001b[0m\u001b[1m(\u001b[0m\u001b[1m[\u001b[0m\u001b[32m'video'\u001b[0m, \u001b[32m'image'\u001b[0m, \u001b[32m'audio'\u001b[0m\u001b[1m]\u001b[0m\u001b[1m)\u001b[0m\n"
      ]
     },
     "metadata": {},
     "output_type": "display_data"
    },
    {
     "data": {
      "text/html": [
       "<pre style=\"white-space:pre;overflow-x:auto;line-height:normal;font-family:Menlo,'DejaVu Sans Mono',consolas,'Courier New',monospace\"><span style=\"color: #800080; text-decoration-color: #800080; font-weight: bold\">torch.Size</span><span style=\"font-weight: bold\">([</span><span style=\"color: #008080; text-decoration-color: #008080; font-weight: bold\">32000</span><span style=\"font-weight: bold\">])</span>\n",
       "</pre>\n"
      ],
      "text/plain": [
       "\u001b[1;35mtorch.Size\u001b[0m\u001b[1m(\u001b[0m\u001b[1m[\u001b[0m\u001b[1;36m32000\u001b[0m\u001b[1m]\u001b[0m\u001b[1m)\u001b[0m\n"
      ]
     },
     "metadata": {},
     "output_type": "display_data"
    },
    {
     "data": {
      "text/html": [
       "<pre style=\"white-space:pre;overflow-x:auto;line-height:normal;font-family:Menlo,'DejaVu Sans Mono',consolas,'Courier New',monospace\"><span style=\"color: #800080; text-decoration-color: #800080; font-weight: bold\">torch.Size</span><span style=\"font-weight: bold\">([</span><span style=\"color: #008080; text-decoration-color: #008080; font-weight: bold\">16</span>, <span style=\"color: #008080; text-decoration-color: #008080; font-weight: bold\">3</span>, <span style=\"color: #008080; text-decoration-color: #008080; font-weight: bold\">224</span>, <span style=\"color: #008080; text-decoration-color: #008080; font-weight: bold\">224</span><span style=\"font-weight: bold\">])</span>\n",
       "</pre>\n"
      ],
      "text/plain": [
       "\u001b[1;35mtorch.Size\u001b[0m\u001b[1m(\u001b[0m\u001b[1m[\u001b[0m\u001b[1;36m16\u001b[0m, \u001b[1;36m3\u001b[0m, \u001b[1;36m224\u001b[0m, \u001b[1;36m224\u001b[0m\u001b[1m]\u001b[0m\u001b[1m)\u001b[0m\n"
      ]
     },
     "metadata": {},
     "output_type": "display_data"
    },
    {
     "data": {
      "text/html": [
       "<pre style=\"white-space:pre;overflow-x:auto;line-height:normal;font-family:Menlo,'DejaVu Sans Mono',consolas,'Courier New',monospace\"><span style=\"color: #800080; text-decoration-color: #800080; font-weight: bold\">torch.Size</span><span style=\"font-weight: bold\">([</span><span style=\"color: #008080; text-decoration-color: #008080; font-weight: bold\">3</span>, <span style=\"color: #008080; text-decoration-color: #008080; font-weight: bold\">224</span>, <span style=\"color: #008080; text-decoration-color: #008080; font-weight: bold\">224</span><span style=\"font-weight: bold\">])</span>\n",
       "</pre>\n"
      ],
      "text/plain": [
       "\u001b[1;35mtorch.Size\u001b[0m\u001b[1m(\u001b[0m\u001b[1m[\u001b[0m\u001b[1;36m3\u001b[0m, \u001b[1;36m224\u001b[0m, \u001b[1;36m224\u001b[0m\u001b[1m]\u001b[0m\u001b[1m)\u001b[0m\n"
      ]
     },
     "metadata": {},
     "output_type": "display_data"
    }
   ],
   "source": [
    "print(output_dict.keys())\n",
    "print(output_dict[\"audio\"].shape)\n",
    "print(output_dict[\"video\"].shape)\n",
    "print(output_dict[\"image\"].shape)"
   ]
  }
 ],
 "metadata": {
  "kernelspec": {
   "display_name": "minimal-ml-template",
   "language": "python",
   "name": "python3"
  },
  "language_info": {
   "codemirror_mode": {
    "name": "ipython",
    "version": 3
   },
   "file_extension": ".py",
   "mimetype": "text/x-python",
   "name": "python",
   "nbconvert_exporter": "python",
   "pygments_lexer": "ipython3",
   "version": "3.10.9"
  },
  "orig_nbformat": 4
 },
 "nbformat": 4,
 "nbformat_minor": 2
}
