{
 "cells": [
  {
   "cell_type": "code",
   "execution_count": 2,
   "metadata": {},
   "outputs": [
    {
     "name": "stdout",
     "output_type": "stream",
     "text": [
      "Total space needed: 6001.2 TB\n"
     ]
    }
   ],
   "source": [
    "video_frames = 100\n",
    "audio_frames = 16000 * 5\n",
    "clip_duration = 10\n",
    "\n",
    "current_workers = 8\n",
    "\n",
    "current_space_per_unit = 1.2 / 20\n",
    "\n",
    "num_samples = 100_020_000\n",
    "total_space_needed = num_samples * current_space_per_unit / 1_000\n",
    "\n",
    "print(f\"Total space needed: {total_space_needed} TB\")"
   ]
  },
  {
   "cell_type": "code",
   "execution_count": 10,
   "metadata": {},
   "outputs": [
    {
     "name": "stdout",
     "output_type": "stream",
     "text": [
      "Total space needed: 0.023799999999999998 TB\n"
     ]
    }
   ],
   "source": [
    "video_frames = 10\n",
    "audio_frames = 16000 * 2\n",
    "clip_duration = 10\n",
    "\n",
    "current_workers = 8\n",
    "\n",
    "current_space_per_unit = 0.476 / 400\n",
    "\n",
    "num_samples = 10_020_000\n",
    "total_space_needed = num_samples * current_space_per_unit / 1_000\n",
    "\n",
    "print(f\"Total space needed: {total_space_needed} TB\")"
   ]
  }
 ],
 "metadata": {
  "kernelspec": {
   "display_name": "minimal-ml-template",
   "language": "python",
   "name": "python3"
  },
  "language_info": {
   "codemirror_mode": {
    "name": "ipython",
    "version": 3
   },
   "file_extension": ".py",
   "mimetype": "text/x-python",
   "name": "python",
   "nbconvert_exporter": "python",
   "pygments_lexer": "ipython3",
   "version": "3.10.9"
  },
  "orig_nbformat": 4
 },
 "nbformat": 4,
 "nbformat_minor": 2
}
