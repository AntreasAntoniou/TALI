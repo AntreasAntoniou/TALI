{
 "cells": [
  {
   "cell_type": "code",
   "execution_count": 1,
   "metadata": {},
   "outputs": [
    {
     "data": {
      "text/plain": [
       "<bound method InteractiveShell.excepthook of <ipykernel.zmqshell.ZMQInteractiveShell object at 0x7f5f8ae9c220>>"
      ]
     },
     "execution_count": 1,
     "metadata": {},
     "output_type": "execute_result"
    }
   ],
   "source": [
    "%load_ext autoreload\n",
    "%autoreload 2\n",
    "\n",
    "import os\n",
    "\n",
    "import tqdm\n",
    "from rich import print\n",
    "from rich.traceback import install\n",
    "\n",
    "import datasets\n",
    "\n",
    "os.environ[\"HYDRA_FULL_ERROR\"] = \"1\"\n",
    "install()"
   ]
  },
  {
   "cell_type": "code",
   "execution_count": 2,
   "metadata": {},
   "outputs": [
    {
     "name": "stderr",
     "output_type": "stream",
     "text": [
      "/home/evolvingfungus/miniconda/envs/minimal-ml-template/lib/python3.10/site-packages/torchvision/transforms/_functional_video.py:6: UserWarning: The 'torchvision.transforms._functional_video' module is deprecated since 0.12 and will be removed in the future. Please use the 'torchvision.transforms.functional' module instead.\n",
      "  warnings.warn(\n",
      "/home/evolvingfungus/miniconda/envs/minimal-ml-template/lib/python3.10/site-packages/torchvision/transforms/_transforms_video.py:22: UserWarning: The 'torchvision.transforms._transforms_video' module is deprecated since 0.12 and will be removed in the future. Please use the 'torchvision.transforms' module instead.\n",
      "  warnings.warn(\n"
     ]
    }
   ],
   "source": [
    "# ! pip install -e ../\n",
    "# ! mamba install -c conda-forge itables pandas -y\n",
    "# ! pip install pytorchvideo\n",
    "import copy\n",
    "import json\n",
    "import os\n",
    "import pathlib\n",
    "import random\n",
    "import sys\n",
    "import time\n",
    "from collections import defaultdict\n",
    "from concurrent.futures import ProcessPoolExecutor, ThreadPoolExecutor\n",
    "from dataclasses import dataclass\n",
    "from enum import Enum\n",
    "from math import floor\n",
    "from typing import Any, Callable, Dict, List, Optional, Tuple, Union\n",
    "import datasets\n",
    "\n",
    "import numpy as np\n",
    "import pandas as pd\n",
    "import PIL\n",
    "import pyarrow as pa\n",
    "import pyarrow.dataset as ds\n",
    "import pyarrow.parquet as pq\n",
    "import torch\n",
    "import torch.nn as nn\n",
    "import tqdm\n",
    "from hydra_zen import builds, instantiate\n",
    "from PIL import Image\n",
    "from pytorchvideo.data.encoded_video import EncodedVideo\n",
    "from pytorchvideo.transforms import (\n",
    "    ApplyTransformToKey,\n",
    "    ShortSideScale,\n",
    "    UniformTemporalSubsample,\n",
    ")\n",
    "from rich import print\n",
    "from torch.utils.data import DataLoader, Dataset\n",
    "from torch.utils.data.dataloader import default_collate\n",
    "from torchvision.transforms import Compose, RandomCrop, Resize, ToTensor\n",
    "from torchvision.transforms._transforms_video import CenterCropVideo\n",
    "from traitlets import default\n",
    "from transformers import CLIPModel, CLIPProcessor\n",
    "import datasets\n",
    "from tali_wit.data import (\n",
    "    AnyModalSample,\n",
    "    dataclass_collate,\n",
    "    default_image_transforms,\n",
    "    ModalityTypes,\n",
    "    select_subtitles_between_timestamps,\n",
    "    TALIDataset,\n",
    ")\n",
    "from tqdm.notebook import tqdm\n",
    "\n"
   ]
  },
  {
   "cell_type": "code",
   "execution_count": 3,
   "metadata": {},
   "outputs": [],
   "source": [
    "from tali_wit.decorators import configurable\n",
    "from tali_wit.utils import get_logger, load_json, save_json\n",
    "from tali_wit.models import ModalityConfig\n",
    "import gradio as gr\n",
    "\n",
    "logger = get_logger(__name__)\n",
    "\n",
    "def update_modality_panel(modality_type):\n",
    "    if modality_type == \"text\":\n",
    "        gr.update(children=[gr.inputs.Textbox(label=\"Text\")])\n",
    "    elif modality_type == \"image\":\n",
    "        gr.update(children=[gr.inputs.Image(label=\"Image\")])\n",
    "    elif modality_type == \"video\":\n",
    "        gr.update(children=[gr.inputs.Video(label=\"Video\")])\n",
    "    elif modality_type == \"audio\":\n",
    "        gr.update(children=[gr.inputs.Audio(label=\"Audio\")])\n",
    "    else:\n",
    "        raise ValueError(f\"Unknown modality type: {modality_type}\")\n",
    "    "
   ]
  },
  {
   "cell_type": "code",
   "execution_count": 13,
   "metadata": {},
   "outputs": [],
   "source": [
    "\n",
    "callback = gr.CSVLogger()\n",
    "\n",
    "num_samples = 100\n",
    "\n",
    "with gr.Blocks(theme=gr.themes.Soft()) as demo:\n",
    "    source = gr.Markdown(\"### Input Source\", interactive=False)\n",
    "    description_source_modality = gr.Markdown(\"Select the type of input modality you want to use to rank the results from the tabs\", interactive=False)\n",
    "    description_source_type = gr.Markdown(\"Once you do, next, choose the way you wish to input the data. You can either upload a file, use your webcam, or draw on the canvas.\", interactive=False)\n",
    "    description_rank = gr.Markdown(\"Once you have selected a source modality, then selected an input source, and finally uploaded your data, click the Rank button\", interactive=False)\n",
    "    \n",
    "    with gr.Row():\n",
    "        with gr.Column():\n",
    "            with gr.Tab(\"text\"):\n",
    "                with gr.Tab(\"generic\"):\n",
    "                    generic_text = gr.Textbox(label=\"Text\")\n",
    "                    rank_by_generic_text_button = gr.Button(\"Rank Results\", label=\"Rank Results\")\n",
    "                with gr.Tab(\"caption\"):\n",
    "                    caption_text = gr.Textbox(label=\"Caption\")\n",
    "                    rank_by_caption_text_button = gr.Button(\"Rank Results\", label=\"Rank Results\")\n",
    "                with gr.Tab(\"title\"):\n",
    "                    title_text = gr.Textbox(label=\"Title\")\n",
    "                    rank_by_title_text_button = gr.Button(\"Rank Results\", label=\"Rank Results\")\n",
    "                with gr.Tab(\"description\"):\n",
    "                    description_text = gr.Textbox(label=\"Description\")\n",
    "                    rank_by_description_text_button = gr.Button(\"Rank Results\", label=\"Rank Results\")\n",
    "                with gr.Tab(\"subtitles\"):\n",
    "                    subtitles_text = gr.Textbox(label=\"Subtitles\")\n",
    "                    rank_by_subtitles_text_button = gr.Button(\"Rank Results\", label=\"Rank Results\")\n",
    "                    \n",
    "            with gr.Tab(\"image\"):\n",
    "                with gr.Tab(\"upload-image\"):\n",
    "                    uploaded_image = gr.Image(label=\"Image\")\n",
    "                    rank_by_uploaded_image_button = gr.Button(\"Rank Results\", label=\"Rank Results\")\n",
    "                with gr.Tab(\"camera\"):\n",
    "                    recorded_image = gr.Image(source=\"webcam\", streaming=True)\n",
    "                    rank_by_recorded_image_button = gr.Button(\"Rank Results\", label=\"Rank Results\")\n",
    "                with gr.Tab(\"draw\"):\n",
    "                    drawn_image = gr.Image(source=\"canvas\")\n",
    "                    rank_by_drawn_image_button = gr.Button(\"Rank Results\", label=\"Rank Results\")\n",
    "                    \n",
    "            with gr.Tab(\"video\"):\n",
    "                with gr.Tab(\"upload-video\"):\n",
    "                    upload_video = gr.Video(label=\"Video\")\n",
    "                    rank_by_upload_video_button = gr.Button(\"Rank Results\", label=\"Rank Results\")\n",
    "                with gr.Tab(\"camera\"):\n",
    "                    camera_video = gr.Video(source=\"webcam\")\n",
    "                    rank_by_camera_video_button = gr.Button(\"Rank Results\", label=\"Rank Results\")\n",
    "                \n",
    "            with gr.Tab(\"audio\"):\n",
    "                with gr.Tab(\"upload-audio\"):\n",
    "                    upload_audio = gr.Audio(label=\"Audio\")\n",
    "                    rank_by_audio_upload_button = gr.Button(\"Rank Results\", label=\"Rank Results\")\n",
    "                with gr.Tab(\"microphone\"):\n",
    "                    mic_audio = gr.Audio(source=\"microphone\")\n",
    "                    rank_by_audio_mic_button = gr.Button(\"Rank Results\", label=\"Rank Results\")\n",
    "                \n",
    "               \n",
    "    images = {'wit-images': [], 'tali-images': []}\n",
    "    videos = {'tali-videos': []}\n",
    "    audio = {'tali-audio': []}\n",
    "    text = {'wit-caption': [], 'wit-title': [], 'wit-description': [], 'wit-subtitles': [], 'tali-caption': []}\n",
    "    \n",
    "    source_content = gr.Markdown(\"Fetch some samples to rank, by clicking the button below! 🖼️ 🎦 🔊 📝\", interactive=False)\n",
    "    \n",
    "    fetch_random_samples_button = gr.Button(\"Fetch Random TALI Samples\", label=\"Fetch Random Samples\")\n",
    "    \n",
    "    with gr.Row():\n",
    "        with gr.Column():\n",
    "           for key in images:\n",
    "               with gr.Tab(key):\n",
    "                   for i in range(num_samples):\n",
    "                       images[key].append(gr.Image())\n",
    "            \n",
    "        with gr.Column():\n",
    "            for key in videos:\n",
    "                with gr.Tab(key):\n",
    "                    for i in range(num_samples):\n",
    "                        videos[key].append(gr.Video())\n",
    "        \n",
    "        with gr.Column():\n",
    "            for key in audio:\n",
    "                with gr.Tab(key):\n",
    "                    for i in range(num_samples):\n",
    "                        audio[key].append(gr.Audio())\n",
    "        \n",
    "        with gr.Column():\n",
    "            for key in text:\n",
    "                with gr.Tab(key):\n",
    "                    for i in range(num_samples):\n",
    "                        text[key].append(gr.Textbox())\n",
    "            \n",
    "            \n",
    "            # input_modality.change(update_modality_panel, [input_modality], [modality_panel])\n",
    "\n",
    "    \n",
    "            \n",
    "            \n",
    "   "
   ]
  },
  {
   "cell_type": "code",
   "execution_count": 14,
   "metadata": {},
   "outputs": [
    {
     "name": "stdout",
     "output_type": "stream",
     "text": [
      "Running on local URL:  http://127.0.0.1:7860\n",
      "Running on public URL: https://c85a63ac00ca715018.gradio.live\n",
      "\n",
      "This share link expires in 72 hours. For free permanent hosting and GPU upgrades (NEW!), check out Spaces: https://huggingface.co/spaces\n"
     ]
    },
    {
     "data": {
      "text/html": [
       "<div><iframe src=\"https://c85a63ac00ca715018.gradio.live\" width=\"100%\" height=\"500\" allow=\"autoplay; camera; microphone; clipboard-read; clipboard-write;\" frameborder=\"0\" allowfullscreen></iframe></div>"
      ],
      "text/plain": [
       "<IPython.core.display.HTML object>"
      ]
     },
     "metadata": {},
     "output_type": "display_data"
    },
    {
     "name": "stdout",
     "output_type": "stream",
     "text": [
      "Keyboard interruption in main thread... closing server.\n",
      "Killing tunnel 127.0.0.1:7860 <> https://c85a63ac00ca715018.gradio.live\n"
     ]
    },
    {
     "data": {
      "text/plain": []
     },
     "execution_count": 14,
     "metadata": {},
     "output_type": "execute_result"
    }
   ],
   "source": [
    "demo.queue(concurrency_count=8)\n",
    "demo.launch(share=True, debug=True, enable_queue=True)"
   ]
  },
  {
   "cell_type": "markdown",
   "metadata": {},
   "source": []
  }
 ],
 "metadata": {
  "kernelspec": {
   "display_name": "base",
   "language": "python",
   "name": "python3"
  },
  "language_info": {
   "codemirror_mode": {
    "name": "ipython",
    "version": 3
   },
   "file_extension": ".py",
   "mimetype": "text/x-python",
   "name": "python",
   "nbconvert_exporter": "python",
   "pygments_lexer": "ipython3",
   "version": "3.10.9"
  },
  "orig_nbformat": 4,
  "vscode": {
   "interpreter": {
    "hash": "8be86470e38501aa34785446b144512d347203ba2fe09ff4115a3f561b2ac78b"
   }
  }
 },
 "nbformat": 4,
 "nbformat_minor": 2
}
